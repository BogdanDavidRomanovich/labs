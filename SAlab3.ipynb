{
  "nbformat": 4,
  "nbformat_minor": 0,
  "metadata": {
    "colab": {
      "name": "SAlab3.ipynb",
      "provenance": [],
      "collapsed_sections": [],
      "toc_visible": true,
      "include_colab_link": true
    },
    "kernelspec": {
      "name": "python3",
      "display_name": "Python 3"
    }
  },
  "cells": [
    {
      "cell_type": "markdown",
      "metadata": {
        "id": "view-in-github",
        "colab_type": "text"
      },
      "source": [
        "<a href=\"https://colab.research.google.com/github/BogdanDavidRomanovich/labs/blob/master/SAlab3.ipynb\" target=\"_parent\"><img src=\"https://colab.research.google.com/assets/colab-badge.svg\" alt=\"Open In Colab\"/></a>"
      ]
    },
    {
      "cell_type": "markdown",
      "metadata": {
        "id": "JFYR9xSbOTq2",
        "colab_type": "text"
      },
      "source": [
        "# Подключение библиотек"
      ]
    },
    {
      "cell_type": "code",
      "metadata": {
        "id": "lgD_uoKf51KF",
        "colab_type": "code",
        "colab": {}
      },
      "source": [
        "import numpy as np\n",
        "import scipy as sc\n",
        "import pandas as pd\n",
        "import matplotlib.pyplot as plt\n",
        "from math import *"
      ],
      "execution_count": 1,
      "outputs": []
    },
    {
      "cell_type": "markdown",
      "metadata": {
        "id": "Z7frvOoeQkLM",
        "colab_type": "text"
      },
      "source": [
        "# Определение полиномов"
      ]
    },
    {
      "cell_type": "code",
      "metadata": {
        "id": "Yi4wXFu3m04g",
        "colab_type": "code",
        "colab": {}
      },
      "source": [
        "# Полином Чебышева первого рода (PCPR)\n",
        "\n",
        "def PCPR(x, p):\n",
        "  if p == 0:\n",
        "    return 1\n",
        "  elif p == 1:\n",
        "    return x\n",
        "  else:\n",
        "    return 2 * x * PCPR(x, p - 1) - PCPR(x, p - 2)"
      ],
      "execution_count": 2,
      "outputs": []
    },
    {
      "cell_type": "code",
      "metadata": {
        "id": "mPiSZvZFQEhg",
        "colab_type": "code",
        "colab": {}
      },
      "source": [
        "# Смещенный полином Чебышева (SPCPR)\n",
        "\n",
        "def SPCPR(x, p):\n",
        "  if p == 0:\n",
        "    return 1\n",
        "  elif p == 1:\n",
        "    return -1 + 2 * x\n",
        "  else:\n",
        "    return 2 * (-1 + 2 * x) * SPCPR(x, p - 1) - SPCPR(x, p - 2)\n",
        "  "
      ],
      "execution_count": 3,
      "outputs": []
    },
    {
      "cell_type": "code",
      "metadata": {
        "id": "D7zgK300pqIg",
        "colab_type": "code",
        "colab": {}
      },
      "source": [
        "# Полином Чебышева второго рода (PCVR)\n",
        "\n",
        "def PCVR(x, p):\n",
        "  if p == 0:\n",
        "    return 1\n",
        "  elif p == 1:\n",
        "    return 2 * x\n",
        "  else:\n",
        "    return 2 * x * PCVR(x, p - 1) - PCVR(x, p - 2)"
      ],
      "execution_count": 4,
      "outputs": []
    },
    {
      "cell_type": "code",
      "metadata": {
        "id": "Q_S7jcAKqYei",
        "colab_type": "code",
        "colab": {}
      },
      "source": [
        "# Смещенный полином Чебышева второго рода (SPCVR)\n",
        "\n",
        "def SPCVR(x, p):\n",
        "  if p == 0:\n",
        "    return 1\n",
        "  elif p == 1:\n",
        "    return 4 * x - 2\n",
        "  else:\n",
        "    return 2 * (2 * x - 1) * SPCVR(x, p - 1) - SPCVR(x, p - 2)"
      ],
      "execution_count": 5,
      "outputs": []
    },
    {
      "cell_type": "code",
      "metadata": {
        "id": "DYwpsW_XrULH",
        "colab_type": "code",
        "colab": {}
      },
      "source": [
        "# Полином Лежандра (LNDR)\n",
        "\n",
        "def LNDR(x, p):\n",
        "  if p == 0:\n",
        "    return 1\n",
        "  elif p == 1:\n",
        "    return x\n",
        "  else:\n",
        "    return ((2 * p - 1) * x * LNDR(x, p - 1) - (p - 1) * LNDR(x, p - 2)) / p"
      ],
      "execution_count": 6,
      "outputs": []
    },
    {
      "cell_type": "code",
      "metadata": {
        "id": "KmIzP3Vwtljz",
        "colab_type": "code",
        "colab": {}
      },
      "source": [
        "# Полином Лагерра (LGR)\n",
        "\n",
        "def LGR(x, p):\n",
        "  if p == 0:\n",
        "    return 1\n",
        "  elif p == 1:\n",
        "    return 1 - x\n",
        "  else:\n",
        "    return (2 * p - 1 - x) * LGR(x, p - 1) - (p - 1) ** 2 *LGR(x, p - 2)"
      ],
      "execution_count": 7,
      "outputs": []
    },
    {
      "cell_type": "code",
      "metadata": {
        "id": "iSOGKMSCvBCJ",
        "colab_type": "code",
        "colab": {}
      },
      "source": [
        "# Полином Эрмита (HERM)\n",
        "\n",
        "def HERM(x, p):\n",
        "  if p == 0:\n",
        "    return 0\n",
        "  elif p == 1:\n",
        "    return x\n",
        "  else:\n",
        "    return x * HERM(x, p - 1) - (p - 1) * HERM(x, p - 2)"
      ],
      "execution_count": 8,
      "outputs": []
    },
    {
      "cell_type": "markdown",
      "metadata": {
        "id": "cosZHlVH2Y8C",
        "colab_type": "text"
      },
      "source": [
        "# Ввод данных\n",
        "\n",
        "\n"
      ]
    },
    {
      "cell_type": "code",
      "metadata": {
        "id": "J7we4D9e6IYJ",
        "colab_type": "code",
        "colab": {}
      },
      "source": [
        "# Объявление пустых списков для хранения входных данных\n",
        "\n",
        "X1 = []\n",
        "X2 = []\n",
        "X3 = []\n",
        "Y = []"
      ],
      "execution_count": 9,
      "outputs": []
    },
    {
      "cell_type": "code",
      "metadata": {
        "id": "_ewJpqh82CsD",
        "colab_type": "code",
        "colab": {}
      },
      "source": [
        "# Считывание данных из файлов Х1, Х2, Х3 и Y\n",
        "\n",
        "X1txt = open(\"X1.txt\",\"r\")\n",
        "for l in X1txt:\n",
        "  X1.append([float(x) for x in l.split()])\n",
        "  \n",
        "X2txt = open(\"X2.txt\",\"r\")\n",
        "for l in X2txt:\n",
        "  X2.append([float(x) for x in l.split()])\n",
        "\n",
        "X3txt = open(\"X3.txt\",\"r\")\n",
        "for l in X3txt:\n",
        "  X3.append([float(x) for x in l.split()])\n",
        "\n",
        "Ytxt = open(\"Y.txt\", \"r\")\n",
        "for l in Ytxt:\n",
        "  Y.append([float(x) for x in l.split()])"
      ],
      "execution_count": 11,
      "outputs": []
    },
    {
      "cell_type": "code",
      "metadata": {
        "id": "XS02s0SC7N5g",
        "colab_type": "code",
        "colab": {}
      },
      "source": [
        "n1 = len(X1[0])  # n1 - размерность X1\n",
        "n2 = len(X2[0])  # n2 - размерность Х2\n",
        "n3 = len(X3[0])  # n3 - размерность Х3\n",
        "n = len(Y)       # n  - объем выборки \n",
        "m = len(Y[0])    # m  - размерность Y"
      ],
      "execution_count": 12,
      "outputs": []
    },
    {
      "cell_type": "code",
      "metadata": {
        "id": "9lxccX_KQo97",
        "colab_type": "code",
        "colab": {}
      },
      "source": [
        "# сохранение считанных данных в виде матриц\n",
        "\n",
        "X1 = np.array(X1)\n",
        "X2 = np.array(X2)\n",
        "X3 = np.array(X3)\n",
        "Y = np.array(Y)"
      ],
      "execution_count": 13,
      "outputs": []
    },
    {
      "cell_type": "code",
      "metadata": {
        "id": "1TvEBDoiGfDx",
        "colab_type": "code",
        "colab": {}
      },
      "source": [
        "# Создание таблицы входных данных\n",
        "\n",
        "InpDF = pd.DataFrame({\n",
        "}, index = np.arange(n) + 1)\n",
        "\n",
        "for j in range(n1):\n",
        "  InpDF['X1' + str(j + 1)] = X1[:, j]\n",
        "  \n",
        "for j in range(n2):\n",
        "  InpDF['X2' + str(j + 1)] = X2[:, j]\n",
        "  \n",
        "for j in range(n3):\n",
        "  InpDF['X3' + str(j + 1)] = X3[:, j]\n",
        "  \n",
        "for j in range(m):\n",
        "  InpDF['Y' + str(j + 1)] = Y[:, j]"
      ],
      "execution_count": 14,
      "outputs": []
    },
    {
      "cell_type": "code",
      "metadata": {
        "id": "n-kcAxVqk-_3",
        "colab_type": "code",
        "colab": {}
      },
      "source": [
        "# Вывод таблицы с входными данными \n",
        "\n",
        "#InpDF"
      ],
      "execution_count": 15,
      "outputs": []
    },
    {
      "cell_type": "markdown",
      "metadata": {
        "id": "LekMAcqYIHeQ",
        "colab_type": "text"
      },
      "source": [
        "# Варианты функций $\\varphi_{p_k}(x_{j_k}) $"
      ]
    },
    {
      "cell_type": "markdown",
      "metadata": {
        "id": "p8NYzxFSJt-l",
        "colab_type": "text"
      },
      "source": [
        "Вариант 1"
      ]
    },
    {
      "cell_type": "code",
      "metadata": {
        "id": "WdVkbgPmpAzO",
        "colab_type": "code",
        "colab": {}
      },
      "source": [
        "#alfa = 2 * n + 1\n",
        "#def fi1(x, p):\n",
        "#  return (1 + alfa * SPCPR(x, p)) / (1 + SPCVR(x, 2 * p) + alfa * SPCVR(x, p))"
      ],
      "execution_count": 16,
      "outputs": []
    },
    {
      "cell_type": "markdown",
      "metadata": {
        "id": "-7J-l3umMsgO",
        "colab_type": "text"
      },
      "source": [
        "Вариант 2"
      ]
    },
    {
      "cell_type": "code",
      "metadata": {
        "id": "x6SfGn_ffTZ9",
        "colab_type": "code",
        "colab": {}
      },
      "source": [
        "#fi1 = LGR"
      ],
      "execution_count": 17,
      "outputs": []
    },
    {
      "cell_type": "code",
      "metadata": {
        "id": "EKD-OplSe3l0",
        "colab_type": "code",
        "colab": {}
      },
      "source": [
        "fi1 = SPCVR"
      ],
      "execution_count": 18,
      "outputs": []
    },
    {
      "cell_type": "code",
      "metadata": {
        "id": "sH-ivVFmp8MU",
        "colab_type": "code",
        "colab": {}
      },
      "source": [
        "# Степени полиномов\n",
        "\n",
        "P1 = 15\n",
        "P2 = 15\n",
        "P3 = 15"
      ],
      "execution_count": 19,
      "outputs": []
    },
    {
      "cell_type": "markdown",
      "metadata": {
        "id": "5PRoOMHReBD_",
        "colab_type": "text"
      },
      "source": [
        "# Нормирование данных"
      ]
    },
    {
      "cell_type": "code",
      "metadata": {
        "id": "7_PgYAIAdEUe",
        "colab_type": "code",
        "colab": {}
      },
      "source": [
        "maxX1 = np.array([max(X1[:, j]) for j in range(n1)])\n",
        "minX1 = np.array([min(X1[:, j]) for j in range(n1)])\n",
        "  \n",
        "maxX2 = np.array([max(X2[:, j]) for j in range(n2)])\n",
        "minX2 = np.array([min(X2[:, j]) for j in range(n2)])\n",
        "\n",
        "maxX3 = np.array([max(X3[:, j]) for j in range(n3)])\n",
        "minX3 = np.array([min(X3[:, j]) for j in range(n3)])\n",
        "\n",
        "maxY = np.array([max(Y[:, j]) for j in range(m)])\n",
        "minY = np.array([min(Y[:, j]) for j in range(m)])\n",
        "\n",
        "for j in range(n1):\n",
        "  X1[:, j] = (X1[:, j] - minX1[j]) / (maxX1[j] - minX1[j])\n",
        "  \n",
        "for j in range(n2):\n",
        "  X2[:, j] = (X2[:, j] - minX2[j]) / (maxX2[j] - minX2[j])\n",
        "  \n",
        "for j in range(n3):\n",
        "  X3[:, j] = (X3[:, j] - minX3[j]) / (maxX3[j] - minX3[j])\n",
        "  \n",
        "for j in range(m):\n",
        "  Y[:, j] = (Y[:, j] - minY[j]) / (maxY[j] - minY[j])"
      ],
      "execution_count": 20,
      "outputs": []
    },
    {
      "cell_type": "code",
      "metadata": {
        "id": "diZQ43Q0dsIh",
        "colab_type": "code",
        "colab": {}
      },
      "source": [
        "# Создание таблицы нормированных данных\n",
        "\n",
        "NormDF = pd.DataFrame({\n",
        "}, index = np.arange(n) + 1)\n",
        "\n",
        "for j in range(n1):\n",
        "  NormDF['X1' + str(j + 1)] = X1[:, j]\n",
        "  \n",
        "for j in range(n2):\n",
        "  NormDF['X2' + str(j + 1)] = X2[:, j]\n",
        "  \n",
        "for j in range(n3):\n",
        "  NormDF['X3' + str(j + 1)] = X3[:, j]\n",
        "  \n",
        "for j in range(m):\n",
        "  NormDF['Y' + str(j + 1)] = Y[:, j]"
      ],
      "execution_count": 21,
      "outputs": []
    },
    {
      "cell_type": "code",
      "metadata": {
        "id": "KgbepK7Sjull",
        "colab_type": "code",
        "colab": {}
      },
      "source": [
        "# Вывод таблицы с нормированными данными\n",
        "\n",
        "#NormDF"
      ],
      "execution_count": 22,
      "outputs": []
    },
    {
      "cell_type": "code",
      "metadata": {
        "id": "2ZC6KF8qDUSV",
        "colab_type": "code",
        "colab": {}
      },
      "source": [
        "b = np.log(np.sin(Y.copy()) + 1)"
      ],
      "execution_count": 23,
      "outputs": []
    },
    {
      "cell_type": "code",
      "metadata": {
        "id": "xDpOAAlQYsKb",
        "colab_type": "code",
        "colab": {
          "base_uri": "https://localhost:8080/",
          "height": 34
        },
        "outputId": "7d9fe87c-3f71-42cd-87ac-dea8d47a0cc5"
      },
      "source": [
        "# Создаем пустую матрицу L коэффициентов при неизвестных лямбдах\n",
        "\n",
        "L = np.empty((n, n1 * (P1 + 1) + n2 * (P2 + 1) + n3 * (P3 + 1)))\n",
        "L.shape     # размерность матрицы L"
      ],
      "execution_count": 24,
      "outputs": [
        {
          "output_type": "execute_result",
          "data": {
            "text/plain": [
              "(45, 112)"
            ]
          },
          "metadata": {
            "tags": []
          },
          "execution_count": 24
        }
      ]
    },
    {
      "cell_type": "code",
      "metadata": {
        "id": "NeQxgCh-4IMk",
        "colab_type": "code",
        "colab": {}
      },
      "source": [
        "# Заполняем L значениями \n",
        "for j1 in range(n1):\n",
        "  for p1 in range(P1 + 1):\n",
        "    L[:, p1 + j1 * (P1 + 1)] = np.sin(fi1(X1[:, j1], p1))\n",
        "    \n",
        "for j2 in range(n2):\n",
        "  for p2 in range(P2 + 1):\n",
        "    L[:, p2 + j2 * (P2 + 1) + n1 * (P1 + 1)] = np.sin(fi1(X2[:, j2], p2))\n",
        "    \n",
        "for j3 in range(n3):\n",
        "  for p3 in range(P3 + 1):\n",
        "    L[:, p3 + j3 * (P3 + 1) + n1 * (P1 + 1) + n2 * (P2 + 1)] = np.sin(fi1(X3[:, j3], p3))"
      ],
      "execution_count": 25,
      "outputs": []
    },
    {
      "cell_type": "markdown",
      "metadata": {
        "id": "p-Wn051Afmcr",
        "colab_type": "text"
      },
      "source": [
        "# Находим $\\lambda_1, \\lambda_2, \\lambda_3$"
      ]
    },
    {
      "cell_type": "code",
      "metadata": {
        "id": "39Rvv-m5jl9R",
        "colab_type": "code",
        "colab": {
          "base_uri": "https://localhost:8080/",
          "height": 104
        },
        "outputId": "1c701b25-59cd-4b1b-9f0e-2541971e6018"
      },
      "source": [
        "Lambda = np.linalg.lstsq(L[:,:], b)[0].transpose()\n",
        "Lambda.shape"
      ],
      "execution_count": 26,
      "outputs": [
        {
          "output_type": "stream",
          "text": [
            "/usr/local/lib/python3.6/dist-packages/ipykernel_launcher.py:1: FutureWarning: `rcond` parameter will change to the default of machine precision times ``max(M, N)`` where M and N are the input matrix dimensions.\n",
            "To use the future default and silence this warning we advise to pass `rcond=None`, to keep using the old, explicitly pass `rcond=-1`.\n",
            "  \"\"\"Entry point for launching an IPython kernel.\n"
          ],
          "name": "stderr"
        },
        {
          "output_type": "execute_result",
          "data": {
            "text/plain": [
              "(4, 112)"
            ]
          },
          "metadata": {
            "tags": []
          },
          "execution_count": 26
        }
      ]
    },
    {
      "cell_type": "code",
      "metadata": {
        "id": "WUTzblSKLK6k",
        "colab_type": "code",
        "colab": {}
      },
      "source": [
        "Lambda1 = np.empty((m, n1, P1 + 1))\n",
        "Lambda2 = np.empty((m, n2, P2 + 1))\n",
        "Lambda3 = np.empty((m, n3, P3 + 1))"
      ],
      "execution_count": 27,
      "outputs": []
    },
    {
      "cell_type": "code",
      "metadata": {
        "id": "Wkxs2ri-MgeJ",
        "colab_type": "code",
        "colab": {}
      },
      "source": [
        "for i in range(m):\n",
        "  for j1 in range(n1):\n",
        "    for p1 in range(P1 + 1):\n",
        "      Lambda1[i, j1, p1] = Lambda[i, p1 + j1 * (P1 + 1)]\n",
        "      \n",
        "for i in range(m):\n",
        "  for j2 in range(n2):\n",
        "    for p2 in range(P2 + 1):\n",
        "      Lambda2[i, j2, p2] = Lambda[i, n1 * (P1 + 1) + p2 + j2 * (P2 + 1)]\n",
        "      \n",
        "      \n",
        "for i in range(m):\n",
        "  for j3 in range(n3):\n",
        "    for p3 in range(P3 + 1):\n",
        "      Lambda3[i, j3, p3] = Lambda[i, n1 * (P1 + 1) + n2 * (P2 + 1) + p3 + j3 * (P3 + 1)]"
      ],
      "execution_count": 28,
      "outputs": []
    },
    {
      "cell_type": "code",
      "metadata": {
        "id": "75eXcAbdQVDz",
        "colab_type": "code",
        "colab": {
          "base_uri": "https://localhost:8080/",
          "height": 34
        },
        "outputId": "f2612201-c49c-43ef-cc17-07c199a79bb8"
      },
      "source": [
        "Lambda3.shape"
      ],
      "execution_count": 29,
      "outputs": [
        {
          "output_type": "execute_result",
          "data": {
            "text/plain": [
              "(4, 3, 16)"
            ]
          },
          "metadata": {
            "tags": []
          },
          "execution_count": 29
        }
      ]
    },
    {
      "cell_type": "code",
      "metadata": {
        "id": "7LFcNsuelWNx",
        "colab_type": "code",
        "colab": {}
      },
      "source": [
        "Psi1 = np.zeros((m, n, n1))\n",
        "Psi2 = np.zeros((m, n, n2))\n",
        "Psi3 = np.zeros((m, n, n3))"
      ],
      "execution_count": 30,
      "outputs": []
    },
    {
      "cell_type": "code",
      "metadata": {
        "id": "G735XQSjG9Qo",
        "colab_type": "code",
        "colab": {}
      },
      "source": [
        "for i in range(m):\n",
        "  for j1 in range(n1):\n",
        "    for q in range(n):\n",
        "      for p1 in range(P1 + 1):\n",
        "        Psi1[i, q, j1] += Lambda1[i, j1, p1] * sin(fi1(X1[q, j1], p1))\n",
        "      Psi1[i, q, j1] = np.exp(Psi1[i, q, j1]) - 1\n",
        "\n",
        "      \n",
        "for i in range(m):\n",
        "  for j2 in range(n2):\n",
        "    for q in range(n):\n",
        "      for p2 in range(P2 + 1):\n",
        "        Psi2[i, q, j2] += Lambda2[i, j2, p2] * sin(fi1(X2[q, j2], p2))  \n",
        "      Psi2[i, q, j2] = np.exp(Psi2[i, q, j2]) - 1\n",
        "    \n",
        "for i in range(m):\n",
        "  for j3 in range(n3):\n",
        "    for q in range(n):\n",
        "      for p3 in range(P3 + 1):\n",
        "        Psi3[i, q, j3] += Lambda3[i, j3, p3] * sin(fi1(X3[q, j3], p3))\n",
        "      Psi3[i, q, j3] = np.exp(Psi3[i, q, j3]) - 1\n",
        "      "
      ],
      "execution_count": 31,
      "outputs": []
    },
    {
      "cell_type": "code",
      "metadata": {
        "id": "Gt1lIwu0AtqD",
        "colab_type": "code",
        "colab": {}
      },
      "source": [
        "A1 = np.empty((m, n1))\n",
        "A2 = np.empty((m, n2))\n",
        "A3 = np.empty((m, n3))"
      ],
      "execution_count": 32,
      "outputs": []
    },
    {
      "cell_type": "markdown",
      "metadata": {
        "id": "duzOQ6T5f0qE",
        "colab_type": "text"
      },
      "source": [
        "# Находим $A_1, A_2 , A_3$"
      ]
    },
    {
      "cell_type": "code",
      "metadata": {
        "id": "wP_hAuxrA7mk",
        "colab_type": "code",
        "colab": {
          "base_uri": "https://localhost:8080/",
          "height": 188
        },
        "outputId": "c5fba8b4-04df-47ed-8d96-9ba84114b4fd"
      },
      "source": [
        "for i in range(m):\n",
        "  A1[i] = np.linalg.lstsq(np.sin(Psi1[i]), b[:, i])[0]\n",
        "  A2[i] = np.linalg.lstsq(np.sin(Psi2[i]), b[:, i])[0]\n",
        "  A3[i] = np.linalg.lstsq(np.sin(Psi3[i]), b[:, i])[0]"
      ],
      "execution_count": 33,
      "outputs": [
        {
          "output_type": "stream",
          "text": [
            "/usr/local/lib/python3.6/dist-packages/ipykernel_launcher.py:2: FutureWarning: `rcond` parameter will change to the default of machine precision times ``max(M, N)`` where M and N are the input matrix dimensions.\n",
            "To use the future default and silence this warning we advise to pass `rcond=None`, to keep using the old, explicitly pass `rcond=-1`.\n",
            "  \n",
            "/usr/local/lib/python3.6/dist-packages/ipykernel_launcher.py:3: FutureWarning: `rcond` parameter will change to the default of machine precision times ``max(M, N)`` where M and N are the input matrix dimensions.\n",
            "To use the future default and silence this warning we advise to pass `rcond=None`, to keep using the old, explicitly pass `rcond=-1`.\n",
            "  This is separate from the ipykernel package so we can avoid doing imports until\n",
            "/usr/local/lib/python3.6/dist-packages/ipykernel_launcher.py:4: FutureWarning: `rcond` parameter will change to the default of machine precision times ``max(M, N)`` where M and N are the input matrix dimensions.\n",
            "To use the future default and silence this warning we advise to pass `rcond=None`, to keep using the old, explicitly pass `rcond=-1`.\n",
            "  after removing the cwd from sys.path.\n"
          ],
          "name": "stderr"
        }
      ]
    },
    {
      "cell_type": "code",
      "metadata": {
        "id": "v01qZeUfBIbM",
        "colab_type": "code",
        "colab": {}
      },
      "source": [
        "Fi1 = np.empty((m, n))\n",
        "Fi2 = np.empty((m, n))\n",
        "Fi3 = np.empty((m, n))"
      ],
      "execution_count": 34,
      "outputs": []
    },
    {
      "cell_type": "code",
      "metadata": {
        "id": "fzkcpBY1BMLx",
        "colab_type": "code",
        "colab": {}
      },
      "source": [
        "for i in range(m):\n",
        "  Fi1[i] = np.exp(np.sin(Psi1[i]) @ A1[i]) - 1\n",
        "  Fi2[i] = np.exp(np.sin(Psi2[i]) @ A2[i]) - 1\n",
        "  Fi3[i] = np.exp(np.sin(Psi3[i]) @ A3[i]) - 1"
      ],
      "execution_count": 35,
      "outputs": []
    },
    {
      "cell_type": "code",
      "metadata": {
        "id": "Uwcw81XVBqhc",
        "colab_type": "code",
        "colab": {}
      },
      "source": [
        "F = np.empty((m, n, 3))"
      ],
      "execution_count": 36,
      "outputs": []
    },
    {
      "cell_type": "code",
      "metadata": {
        "id": "lGX8zfxGcs58",
        "colab_type": "code",
        "colab": {
          "base_uri": "https://localhost:8080/",
          "height": 622
        },
        "outputId": "057811e4-e6c4-4dbb-f726-00696467165b"
      },
      "source": [
        "Fi3"
      ],
      "execution_count": 37,
      "outputs": [
        {
          "output_type": "execute_result",
          "data": {
            "text/plain": [
              "array([[ 0.28797707,  0.23097577, -0.00493551, -0.12644092, -0.09906602,\n",
              "        -0.02322158,  0.11726781, -0.11632667,  0.21324302,  0.26469204,\n",
              "         0.09225255,  0.20552521,  0.28327051,  0.17169836,  0.27472719,\n",
              "         0.10257184, -0.0249901 ,  0.02846515,  0.04338287, -0.02883277,\n",
              "         0.01341165,  0.19543833,  0.27103952,  0.31200152,  0.85100369,\n",
              "         0.73514791,  0.51577144,  0.18758603,  0.20406622,  0.86425974,\n",
              "         0.74354155,  0.54751104,  0.18573169,  0.11421659,  0.26906215,\n",
              "         0.29019582,  0.14884902, -0.04013951, -0.05293472, -0.13275826,\n",
              "        -0.18881399, -0.08533661,  0.18436327, -0.03038225,  0.10628724],\n",
              "       [ 0.15403787, -0.04717855, -0.02062269,  0.07802418,  0.04000274,\n",
              "         0.07156527,  0.10152714,  0.10128525,  0.00233502,  0.07648677,\n",
              "         0.16079303,  0.31030466,  0.28069392,  0.31578542,  0.53453894,\n",
              "         0.39647596,  0.20910685,  0.05517511,  0.14255664, -0.09159279,\n",
              "         0.0549269 ,  0.3144341 ,  0.77751878,  0.5991499 ,  0.69016575,\n",
              "         0.64236617,  0.66390199,  0.5629527 ,  0.56113907,  0.13037666,\n",
              "         0.24200896, -0.01562642,  0.19708409,  0.01762621, -0.03209904,\n",
              "        -0.04354101, -0.12274419,  0.02098422, -0.13756662, -0.06183076,\n",
              "        -0.07336535, -0.04839358, -0.03959795,  0.21266989,  0.00300602],\n",
              "       [ 0.23624085, -0.06944348,  0.03358468,  0.033868  , -0.0478054 ,\n",
              "        -0.05717224, -0.05644136, -0.06981472,  0.11645423,  0.11457788,\n",
              "         0.14904283,  0.07357621,  0.18182705,  0.30054146,  0.26475801,\n",
              "         0.61330371,  0.47132958,  0.67628471,  0.50033257,  0.57672737,\n",
              "         0.65867355,  0.60842598,  1.17813346,  0.70068646,  0.34825257,\n",
              "         0.65182344,  0.88099055,  0.93334629,  0.90327053,  0.28776494,\n",
              "         0.24349367, -0.02297103,  0.06592407, -0.04825742, -0.03779332,\n",
              "         0.10417936,  0.06756329,  0.04323305,  0.09320454,  0.03077453,\n",
              "         0.18517488,  0.13948344,  0.13034098,  0.18303692, -0.06974753],\n",
              "       [ 0.16197796,  0.15632946, -0.04367579,  0.03174651, -0.01737403,\n",
              "        -0.03896846, -0.01412958,  0.00997748,  0.05931453,  0.17754799,\n",
              "         0.27511618,  0.44228071,  0.44013354,  0.54827079,  0.8530653 ,\n",
              "         0.93378569,  0.71589372,  0.76110703,  0.62405757,  0.40183005,\n",
              "         0.47361818,  0.41133681,  0.39042796,  0.40098827,  0.25203665,\n",
              "         0.35393229,  0.11289411,  0.08124903,  0.49964594,  0.72283484,\n",
              "         0.64568459,  0.10373245,  0.10867442,  0.05861109,  0.02813939,\n",
              "         0.05849585, -0.11659865,  0.05294844,  0.14625278,  0.19116196,\n",
              "         0.22673862,  0.0561854 ,  0.31714865,  0.12851271, -0.07907985]])"
            ]
          },
          "metadata": {
            "tags": []
          },
          "execution_count": 37
        }
      ]
    },
    {
      "cell_type": "code",
      "metadata": {
        "id": "8YWNzKW7B3S9",
        "colab_type": "code",
        "colab": {}
      },
      "source": [
        "for i in range(m):\n",
        "  F[i] = np.array([np.sin(Fi1[i]), np.sin(Fi2[i]), np.sin(Fi3[i])]).transpose()"
      ],
      "execution_count": 38,
      "outputs": []
    },
    {
      "cell_type": "code",
      "metadata": {
        "id": "CpMDmJorwK1p",
        "colab_type": "code",
        "colab": {}
      },
      "source": [
        ""
      ],
      "execution_count": 38,
      "outputs": []
    },
    {
      "cell_type": "code",
      "metadata": {
        "id": "MQILwJjnB6Jb",
        "colab_type": "code",
        "colab": {}
      },
      "source": [
        "C = np.empty((m, 3))"
      ],
      "execution_count": 39,
      "outputs": []
    },
    {
      "cell_type": "markdown",
      "metadata": {
        "id": "QFXGXKOvgUCx",
        "colab_type": "text"
      },
      "source": [
        "# Находим $C_1, C_2, C_3$"
      ]
    },
    {
      "cell_type": "code",
      "metadata": {
        "id": "R5W03D2YCAGf",
        "colab_type": "code",
        "colab": {
          "base_uri": "https://localhost:8080/",
          "height": 87
        },
        "outputId": "782eedb7-29fd-438f-c2fa-387569e245d1"
      },
      "source": [
        "for i in range(m):\n",
        "  C[i] = np.linalg.lstsq(np.sin(F[i]), b[:, i])[0]"
      ],
      "execution_count": 40,
      "outputs": [
        {
          "output_type": "stream",
          "text": [
            "/usr/local/lib/python3.6/dist-packages/ipykernel_launcher.py:2: FutureWarning: `rcond` parameter will change to the default of machine precision times ``max(M, N)`` where M and N are the input matrix dimensions.\n",
            "To use the future default and silence this warning we advise to pass `rcond=None`, to keep using the old, explicitly pass `rcond=-1`.\n",
            "  \n"
          ],
          "name": "stderr"
        }
      ]
    },
    {
      "cell_type": "code",
      "metadata": {
        "id": "41TCiAlVjuDm",
        "colab_type": "code",
        "colab": {}
      },
      "source": [
        "Ya = np.arcsin(np.array([np.exp(np.sin(F[i]) @ C[i]) - 1 for i in range(m)]))\n",
        "for i in range(m):\n",
        "  Ya[i] = Ya[i] * (maxY[i] - minY[i]) + minY[i] "
      ],
      "execution_count": 41,
      "outputs": []
    },
    {
      "cell_type": "code",
      "metadata": {
        "id": "rQIrP8jOjt7a",
        "colab_type": "code",
        "colab": {
          "base_uri": "https://localhost:8080/",
          "height": 265
        },
        "outputId": "0e453655-7794-497b-b46d-cca97dfbd072"
      },
      "source": [
        "plt.plot(Ya[0], label = 'Y1apr')\n",
        "plt.plot(InpDF['Y1'], label = 'Y1')\n",
        "plt.legend()\n",
        "plt.show()"
      ],
      "execution_count": 42,
      "outputs": [
        {
          "output_type": "display_data",
          "data": {
            "image/png": "[encoded data removed]",
            "text/plain": [
              "<Figure size 432x288 with 1 Axes>"
            ]
          },
          "metadata": {
            "tags": [],
            "needs_background": "light"
          }
        }
      ]
    },
    {
      "cell_type": "code",
      "metadata": {
        "id": "Pv5s9j_fkpnL",
        "colab_type": "code",
        "colab": {
          "base_uri": "https://localhost:8080/",
          "height": 265
        },
        "outputId": "d51886ae-db16-484b-f10c-ad206c116b3e"
      },
      "source": [
        "plt.plot(Ya[1], label = 'Y2apr')\n",
        "plt.plot(InpDF['Y2'], label = 'Y2')\n",
        "plt.legend()\n",
        "plt.show()"
      ],
      "execution_count": 43,
      "outputs": [
        {
          "output_type": "display_data",
          "data": {
            "image/png": "[encoded data removed]",
            "text/plain": [
              "<Figure size 432x288 with 1 Axes>"
            ]
          },
          "metadata": {
            "tags": [],
            "needs_background": "light"
          }
        }
      ]
    },
    {
      "cell_type": "code",
      "metadata": {
        "id": "-hfNlDQxku54",
        "colab_type": "code",
        "colab": {
          "base_uri": "https://localhost:8080/",
          "height": 265
        },
        "outputId": "543a16da-5ed2-47b5-9573-b8ffa7d39ea6"
      },
      "source": [
        "plt.plot(Ya[2], label = 'Y3apr')\n",
        "plt.plot(InpDF['Y3'], label = 'Y3')\n",
        "plt.legend()\n",
        "plt.show()"
      ],
      "execution_count": 44,
      "outputs": [
        {
          "output_type": "display_data",
          "data": {
            "image/png": "[encoded data removed]",
            "text/plain": [
              "<Figure size 432x288 with 1 Axes>"
            ]
          },
          "metadata": {
            "tags": [],
            "needs_background": "light"
          }
        }
      ]
    },
    {
      "cell_type": "code",
      "metadata": {
        "id": "liVcfVdekxET",
        "colab_type": "code",
        "colab": {
          "base_uri": "https://localhost:8080/",
          "height": 265
        },
        "outputId": "eb22c6c5-8ac9-45db-ec54-355a7772fd6c"
      },
      "source": [
        "plt.plot(Ya[3], label = 'Y4apr')\n",
        "plt.plot(InpDF['Y4'], label = 'Y4')\n",
        "plt.legend()\n",
        "plt.show()"
      ],
      "execution_count": 45,
      "outputs": [
        {
          "output_type": "display_data",
          "data": {
            "image/png": "[encoded data removed]",
            "text/plain": [
              "<Figure size 432x288 with 1 Axes>"
            ]
          },
          "metadata": {
            "tags": [],
            "needs_background": "light"
          }
        }
      ]
    },
    {
      "cell_type": "code",
      "metadata": {
        "id": "Mfd3ndwxmrdZ",
        "colab_type": "code",
        "colab": {}
      },
      "source": [
        ""
      ],
      "execution_count": null,
      "outputs": []
    }
  ]
}